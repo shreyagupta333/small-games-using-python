{
 "cells": [
  {
   "cell_type": "code",
   "execution_count": 1,
   "id": "ddfe9a16",
   "metadata": {},
   "outputs": [],
   "source": [
    "def welcome():\n",
    "    print(\"Welcome to tic tac toe game!!!\")"
   ]
  },
  {
   "cell_type": "code",
   "execution_count": 2,
   "id": "8549688a",
   "metadata": {},
   "outputs": [],
   "source": [
    "board=[' ']*10"
   ]
  },
  {
   "cell_type": "code",
   "execution_count": 3,
   "id": "4b77c171",
   "metadata": {},
   "outputs": [],
   "source": [
    "board=[' ']*10"
   ]
  },
  {
   "cell_type": "code",
   "execution_count": 4,
   "id": "5bf30e40",
   "metadata": {},
   "outputs": [],
   "source": [
    "from IPython.display import clear_output\n",
    "def displaying_board(board):\n",
    "    clear_output()\n",
    "    print(board[7]+' | '+board[8]+' | '+board[9])\n",
    "   \n",
    "    print(board[4]+' | '+board[5]+' | '+board[6])\n",
    "    \n",
    "    print(board[1]+' | '+board[2]+' | '+board[3])"
   ]
  },
  {
   "cell_type": "code",
   "execution_count": 5,
   "id": "490bc3f2",
   "metadata": {},
   "outputs": [
    {
     "name": "stdout",
     "output_type": "stream",
     "text": [
      "  |   |  \n",
      "  |   |  \n",
      "  |   |  \n"
     ]
    }
   ],
   "source": [
    "displaying_board(board)          "
   ]
  },
  {
   "cell_type": "code",
   "execution_count": 6,
   "id": "53f11371",
   "metadata": {},
   "outputs": [],
   "source": [
    "def player_input():\n",
    "    marker=' '\n",
    "    while marker!='X'and marker!=\"O\":\n",
    "        marker=input(\"Player1: Choose your marker X or O \")\n",
    "        if marker=='X':\n",
    "            return('X','O') \n",
    "        else:\n",
    "            return('O','X')\n",
    "           "
   ]
  },
  {
   "cell_type": "code",
   "execution_count": 7,
   "id": "a3e0f41a",
   "metadata": {},
   "outputs": [],
   "source": [
    " \n",
    "def place_marker(board,marker,position):\n",
    "    \n",
    "     board[position]=marker"
   ]
  },
  {
   "cell_type": "code",
   "execution_count": 8,
   "id": "6ed604f1",
   "metadata": {},
   "outputs": [],
   "source": [
    "def win_check(board,marker):\n",
    "    #check for all rows\n",
    "    \n",
    "    return ((board[1]==marker and board[2]==marker and board[3]==marker)or\n",
    "            (board[4]==marker and board[5]==marker and board[6]==marker)or \n",
    "            (board[7]==marker and board[8]==marker and board[9]==marker)or\n",
    "            (board[7]==marker and board[4]==marker and board[1]==marker)or \n",
    "            (board[8]==marker and board[5]==marker and board[2]==marker)or \n",
    "            (board[6]==marker and board[3]==marker and board[9]==marker)or \n",
    "            (board[7]==marker and board[5]==marker and board[3]==marker)or \n",
    "            (board[9]==marker and board[5]==marker and board[1]==marker))  \n",
    "    #check for all diagonal\n",
    "    #check for all columns\n",
    "    #or board[7]==board[4]==board[1] or board[8]==board[5]==board[2]or board[6]==board[3]==board[9] \n",
    "    #check for all diagonals\n",
    "     #or board[7]==board[5]==board[3] or board[9]==board[5]==board[2]\n",
    "    "
   ]
  },
  {
   "cell_type": "code",
   "execution_count": 9,
   "id": "f67df8eb",
   "metadata": {},
   "outputs": [],
   "source": [
    "def players_name():\n",
    "    player1_name=(input(\"Player1,What is your name? \"))\n",
    "    player2_name=(input('Player2,What is your name?'))                 "
   ]
  },
  {
   "cell_type": "code",
   "execution_count": 10,
   "id": "e963656a",
   "metadata": {},
   "outputs": [],
   "source": [
    "import random\n",
    "def choose_first(player1_name,player2_name):\n",
    "    flip=random.randint(0,1)\n",
    "    \n",
    "    if flip==0:\n",
    "        \n",
    "        return player1_name\n",
    "    else:\n",
    "        return player2_name"
   ]
  },
  {
   "cell_type": "code",
   "execution_count": 11,
   "id": "068a67f0",
   "metadata": {},
   "outputs": [],
   "source": [
    "def space_check(board,position):\n",
    "    return board[position] == ' '"
   ]
  },
  {
   "cell_type": "code",
   "execution_count": 12,
   "id": "1f77f7f8",
   "metadata": {},
   "outputs": [],
   "source": [
    "def full_board_check(board):\n",
    "    for i in range(1,10):\n",
    "        if space_check(board,i):\n",
    "            return False\n",
    "        \n",
    "    return True\n",
    "    "
   ]
  },
  {
   "cell_type": "code",
   "execution_count": 13,
   "id": "a7f3fafb",
   "metadata": {},
   "outputs": [],
   "source": [
    "def player_choice(board):\n",
    "    \n",
    "    position=0\n",
    "    \n",
    "    while position not in [1,2,3,4,5,6,7,8,9] or not space_check(board,position):\n",
    "        position=int(input('Choose your position(1-9): '))\n",
    "        \n",
    "    return position"
   ]
  },
  {
   "cell_type": "code",
   "execution_count": 14,
   "id": "4329be1d",
   "metadata": {},
   "outputs": [],
   "source": [
    "def replay():\n",
    "    \n",
    "    choice=input(' Play again?Enter yes or no ')\n",
    "    return choice==\"yes\"\n",
    "    "
   ]
  },
  {
   "cell_type": "code",
   "execution_count": 15,
   "id": "d9a5aedc",
   "metadata": {},
   "outputs": [
    {
     "name": "stdout",
     "output_type": "stream",
     "text": [
      "  |   | O\n",
      "  | O | X\n",
      "O |   | X\n",
      "The shreya has won!!!\n",
      " Play again?Enter yes or no no\n",
      "Thankyou for playing the game\n"
     ]
    }
   ],
   "source": [
    "#now we call the function and this is main part of this game.... welcome()\n",
    "print('Welcome to tic tac toe game')\n",
    "#WHILE LOOP TO KEEP RUNNING THE GAME\n",
    "while True:\n",
    "    the_board=[' ']*10\n",
    "    player1_marker,player2_marker=player_input()\n",
    "    player1_name=(input(\"Player1,What is your name? \"))\n",
    "    player2_name=(input('Player2,What is your name?')) \n",
    "    \n",
    "    turn=choose_first(player1_name,player2_name)\n",
    "    print(turn+' will go first')\n",
    "    \n",
    "    play_game = input('Are you ready to play the game: choose yes or no')\n",
    "    \n",
    "    if play_game=='yes':\n",
    "        game_on=True\n",
    "    else:\n",
    "        game_on==False\n",
    "        \n",
    "    while game_on:\n",
    "         \n",
    "        \n",
    "        if turn==player1_name:\n",
    "        #display the board\n",
    "            displaying_board(the_board)\n",
    "        #choose the position\n",
    "            print('{} turns'.format(player1_name))\n",
    "            position = player_choice(the_board)\n",
    "        #marking\n",
    "            place_marker(the_board,player1_marker,position)\n",
    "            \n",
    "            if win_check(the_board,player1_marker):\n",
    "                displaying_board(the_board)\n",
    "                print('The {} has won!!!'.format(player1_name))\n",
    "                game_on=False\n",
    "            else:\n",
    "                if full_board_check(the_board):\n",
    "                    displaying_board(the_board)\n",
    "                    print('Game Tie!!!')\n",
    "                    game_on=False\n",
    "                    \n",
    "                else:\n",
    "                    turn=player2_name\n",
    "        else:\n",
    "            displaying_board(the_board)\n",
    "        #choose the position\n",
    "            print('{} turns'.format(player2_name))\n",
    "            position = player_choice(the_board)\n",
    "        #marking\n",
    "            place_marker(the_board,player2_marker,position)\n",
    "            \n",
    "            if win_check(the_board,player2_marker):\n",
    "                displaying_board(the_board)\n",
    "                print('The {} has won!!!'.format(player2_name))\n",
    "                game_on=False\n",
    "            else:\n",
    "                if full_board_check(the_board):\n",
    "                    dispalying_board(the_board)\n",
    "                    print('Game Tie!!!')\n",
    "                    game_on=False\n",
    "                    \n",
    "                else:\n",
    "                    turn=player1_name\n",
    "                    \n",
    "             \n",
    "        \n",
    "    \n",
    "    \n",
    "    \n",
    "    \n",
    "    \n",
    "    \n",
    "    \n",
    "    if not replay():\n",
    "        break\n",
    "print('Thankyou for playing the game')\n",
    "        \n",
    "    \n"
   ]
  },
  {
   "cell_type": "markdown",
   "id": "574ae7e2",
   "metadata": {},
   "source": [
    "##### "
   ]
  }
 ],
 "metadata": {
  "kernelspec": {
   "display_name": "Python 3 (ipykernel)",
   "language": "python",
   "name": "python3"
  },
  "language_info": {
   "codemirror_mode": {
    "name": "ipython",
    "version": 3
   },
   "file_extension": ".py",
   "mimetype": "text/x-python",
   "name": "python",
   "nbconvert_exporter": "python",
   "pygments_lexer": "ipython3",
   "version": "3.9.12"
  }
 },
 "nbformat": 4,
 "nbformat_minor": 5
}
